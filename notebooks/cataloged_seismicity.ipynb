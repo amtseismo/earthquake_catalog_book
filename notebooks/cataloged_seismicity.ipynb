{
 "cells": [
  {
   "cell_type": "markdown",
   "id": "c86ef410-81c5-4c0e-bc65-0d7caac96c7b",
   "metadata": {},
   "source": [
    "# Cataloged seismicity"
   ]
  },
  {
   "cell_type": "markdown",
   "id": "4a87e6f9-1205-4ad9-b290-472366072122",
   "metadata": {},
   "source": [
    "The Pacific Northwest Seismic Network (PNSN) and Northern California Seismic Network (NCSN) are the regional monitoring networks in Cascadia.  Both data centers report historic earthquakes in their respective earthquake catalogs.  To explore the contents of these catalogs, we download all events in the PNSN catalog between Jan. 1 1969 and the present day and all events in the NCSN catalog that occurred north of 38$^\\circ$N between Jan. 1 1969 and the present day.  Since both catalog query tools limit the size of the output, we download the data by date saving each download as a separate file.  We then merge the resulting files downloaded from the PNSN and the NCSN with the `pnsn_ncsn_seismicity.py` script, remove any duplicate events, and save to the files `pnsn_catalog.all` and `ncsn_catalog.all`.  "
   ]
  },
  {
   "cell_type": "markdown",
   "id": "45d48821-e857-4537-86a0-9b05b6b9710f",
   "metadata": {},
   "source": "These two catalog files are then merged, sorted in terms of ascending event time, and filtered to the same geographic region as the [velocity model](velocity_model.ipynb). Specifically between 125$^\\circ$W, 120$^\\circ$W, 39$^\\circ$N, and 49$^\\circ$N. The resulting file is called `cascadia.earthquakes.filtered`."
  },
  {
   "cell_type": "markdown",
   "id": "a0d7a276-f173-4280-a5fe-7c1a35acca3c",
   "metadata": {},
   "source": [
    "The resulting event catalog contains 194552 events shown in the {ref}`figure <pnsn_ncsn_seismicity>` below.  We download the picks from these earthquakes using [libcomcat](https://github.com/usgs/libcomcat) in the script `get_phase_picks.py`."
   ]
  },
  {
   "cell_type": "markdown",
   "id": "31633cc5-2896-4d1b-acd0-5c33999ff786",
   "metadata": {},
   "source": [
    "```{figure} ../figures/pnsn_ncsn_seismicity.png\n",
    "---\n",
    "width: 600px\n",
    "name: pnsn_ncsn_seismicity\n",
    "---\n",
    "Cataloged seismicity from PNSN and NCSN.  Events are color coded by depth and scaled by magnitude.\n",
    "```"
   ]
  },
  {
   "cell_type": "code",
   "execution_count": null,
   "id": "37467c1c-7436-4401-94ea-3c7320142154",
   "metadata": {},
   "outputs": [],
   "source": []
  }
 ],
 "metadata": {
  "kernelspec": {
   "display_name": "Python 3 (ipykernel)",
   "language": "python",
   "name": "python3"
  },
  "language_info": {
   "codemirror_mode": {
    "name": "ipython",
    "version": 3
   },
   "file_extension": ".py",
   "mimetype": "text/x-python",
   "name": "python",
   "nbconvert_exporter": "python",
   "pygments_lexer": "ipython3",
   "version": "3.11.7"
  }
 },
 "nbformat": 4,
 "nbformat_minor": 5
}
