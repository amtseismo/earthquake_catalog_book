{
 "cells": [
  {
   "cell_type": "markdown",
   "id": "9ab564fc-a608-4cd8-bba6-c3a163476e47",
   "metadata": {},
   "source": [
    "# Generate the NonLinLoc config files\n",
    "This notebook generate the necessary input file for NLL (config.in) using the output of the notebook 3_velocity_to_poly_nnl\n",
    "\n",
    "Webase the input files on the two templates files:\n",
    "- nlloc_runfile_template.in \n",
    "\n",
    "Based on the work of Loïs Papin"
   ]
  },
  {
   "cell_type": "code",
   "execution_count": 1,
   "id": "962729c5-c0bb-4d78-b9cc-f238129cf7bf",
   "metadata": {},
   "outputs": [],
   "source": [
    "import os\n",
    "import json"
   ]
  },
  {
   "cell_type": "markdown",
   "id": "c40dba19-41ce-45fb-8bdf-80a2cba3f8a4",
   "metadata": {},
   "source": [
    "## set of input parameter\n",
    "* poly_id: id of the polygon (int)"
   ]
  },
  {
   "cell_type": "code",
   "execution_count": 2,
   "id": "b033a894-a433-4afd-999e-3e5d591f6a79",
   "metadata": {},
   "outputs": [
    {
     "data": {
      "text/plain": [
       "{'poly_id': 2.0,\n",
       " 'olon': -121.3,\n",
       " 'olat': 48.0,\n",
       " 'plat1': 46.9,\n",
       " 'plat2': 49.1,\n",
       " 'xmin': -124.0,\n",
       " 'xmax': 124.0,\n",
       " 'xsep': 1.0,\n",
       " 'ymin': -124.0,\n",
       " 'ymax': 124.0,\n",
       " 'ysep': 1.0,\n",
       " 'zmin': -4.0,\n",
       " 'zmax': 100.0,\n",
       " 'zsep': 1.0,\n",
       " 'minlon': -122.6,\n",
       " 'maxlon': -120.0,\n",
       " 'minlat': 46.9,\n",
       " 'maxlat': 49.1}"
      ]
     },
     "execution_count": 2,
     "metadata": {},
     "output_type": "execute_result"
    }
   ],
   "source": [
    "poly_id = 2\n",
    "out_file = f'./NLL_config_files/nlloc_runfile_poly{poly_id}.in'\n",
    "os.makedirs(f'./NLL_config_files/', exist_ok=True)\n",
    "out_name = \"delph\"\n",
    "# with open(\"cascadia_poly.json\", 'r+') as file:\n",
    "with open(\"../creating_polygons/cascadia_poly.json\", 'r+') as file:\n",
    "    file_data = json.load(file)\n",
    "poly_param = file_data[poly_id-1]\n",
    "poly_param"
   ]
  },
  {
   "cell_type": "markdown",
   "id": "792f0130-6aae-4e92-af5b-eadcc9fff420",
   "metadata": {},
   "source": [
    "## Generic control file statements\n",
    "Set transform"
   ]
  },
  {
   "cell_type": "code",
   "execution_count": 3,
   "id": "74c17c60-0df3-4dc6-af46-b8ed2ce2ecc7",
   "metadata": {},
   "outputs": [],
   "source": [
    "def edit_trans_cmd(nll_cmd_lines, poly_param):\n",
    "    # Find and replace the TRANS line in the .run file\n",
    "    for i, line in enumerate(nll_cmd_lines):\n",
    "        if line.startswith('TRANS'):\n",
    "            nll_cmd_lines[i] = f\"TRANS LAMBERT WGS-84 {poly_param['olat']} {poly_param['olon']} {poly_param['plat1']} {poly_param['plat2']} 0.0\" + ' # modified' + '\\n'\n",
    "            return nll_cmd_lines"
   ]
  },
  {
   "cell_type": "code",
   "execution_count": 4,
   "id": "05e5d7d8-4c9c-4501-b8a3-2842a8e8e9f5",
   "metadata": {},
   "outputs": [
    {
     "name": "stdout",
     "output_type": "stream",
     "text": [
      "TRANS lines have been modified successfully.\n"
     ]
    }
   ],
   "source": [
    "# Read the template file\n",
    "with open('./template_NLL/nlloc_runfile_template.in', 'r') as file:\n",
    "    nll_cmd_lines = file.readlines()\n",
    "\n",
    "# modify TRANS\n",
    "nll_cmd_lines = edit_trans_cmd(nll_cmd_lines, poly_param)\n",
    "\n",
    "# Write the modified content back to a new file\n",
    "with open(out_file, 'w') as file:\n",
    "    file.writelines(line.rstrip() + '\\n' for line in nll_cmd_lines)\n",
    "print('TRANS lines have been modified successfully.')"
   ]
  },
  {
   "cell_type": "markdown",
   "id": "81219c4e-8a5a-49e5-b72b-fc7998f6267a",
   "metadata": {},
   "source": [
    "## Prepare config for event location\n",
    "NLLoc performs earthquake locations in 3D models using non-linear search techniques.\n",
    "\n",
    "Defining the commands:\n",
    "* LOCFILES\n",
    "* LOCGRID\n",
    "* LOCSEARCH command may be needed."
   ]
  },
  {
   "cell_type": "code",
   "execution_count": 5,
   "id": "b1e43a8e-3808-4715-992c-d3618e29b2c8",
   "metadata": {},
   "outputs": [],
   "source": [
    "def edit_locfiles_cmd(nll_cmd_lines, input_filename_obs, input_filename_ttgrid, output_filename_loc):\n",
    "    # Find and replace the LOCFILES line in the .run file\n",
    "    locfiles_command = 'LOCFILES ' + input_filename_obs + ' NLLOC_OBS ' + input_filename_ttgrid + ' ' + output_filename_loc\n",
    "    for i, line in enumerate(nll_cmd_lines):\n",
    "        if line.startswith('LOCFILES'):\n",
    "            nll_cmd_lines[i] = locfiles_command + ' #modified' + '\\n'\n",
    "            return nll_cmd_lines\n",
    "        \n",
    "def edit_locgrid_cmd(nll_cmd_lines, poly_param):\n",
    "    # Find and replace the VGGRID line in the .run file\n",
    "    x_num = int(((poly_param['xmax'] - poly_param['xmin'])//poly_param['xsep'])+1)\n",
    "    y_num = int(((poly_param['ymax'] - poly_param['ymin'])//poly_param['ysep'])+1)\n",
    "    z_num = int(((poly_param['zmax'] - poly_param['zmin'])//poly_param['zsep'])+1)\n",
    "    # Syntax 1: LOCGRID xNum yNum zNum xOrig yOrig zOrig dx dy dz gridType saveFlag\n",
    "    locgrid_command = f\"LOCGRID {x_num} {y_num} {z_num} {poly_param['xmin']} {poly_param['ymin']} {poly_param['zmin']}\"\\\n",
    "                     f\" {poly_param['xsep']} {poly_param['ysep']} {poly_param['zsep']} PROB_DENSITY  SAVE\"\n",
    "    for i, line in enumerate(nll_cmd_lines):\n",
    "        if line.startswith('LOCGRID'):\n",
    "            nll_cmd_lines[i] = locgrid_command + ' # modified' + '\\n'\n",
    "            return nll_cmd_lines"
   ]
  },
  {
   "cell_type": "code",
   "execution_count": 6,
   "id": "23b4f8a4-eac2-475c-9ee8-47f9bcbab8ef",
   "metadata": {},
   "outputs": [
    {
     "name": "stdout",
     "output_type": "stream",
     "text": [
      "LOCFILES and LOCGRID line has been modified successfully.\n"
     ]
    }
   ],
   "source": [
    "# Determine the filenames for LOCFILES\n",
    "input_filename_obs = './nll_picks/NLL_picks.txt' # Picks\n",
    "input_filename_ttgrid = f'../creating_polygons/time/{out_name}_poly{poly_id}_lcc' # Travel-time grid\n",
    "output_filename_loc = './loc/test_loc' # Location of the events\n",
    "\n",
    "# Read the modified .run file\n",
    "with open(out_file, 'r') as file:\n",
    "    nll_cmd_lines = file.readlines()\n",
    "\n",
    "# Modify LOCFILES cmd\n",
    "nll_cmd_lines = edit_locfiles_cmd(nll_cmd_lines, input_filename_obs, input_filename_ttgrid, output_filename_loc)\n",
    "\n",
    "# Modify LOCGRID cmd\n",
    "# now just using same grid as velocity\n",
    "nll_cmd_lines = edit_locgrid_cmd(nll_cmd_lines, poly_param)\n",
    "\n",
    "# Write the modified content back to a new file (or overwrite the original)\n",
    "with open(out_file, 'w') as file:\n",
    "    file.writelines(line.rstrip() + '\\n' for line in nll_cmd_lines)\n",
    "\n",
    "print('LOCFILES and LOCGRID line has been modified successfully.')"
   ]
  },
  {
   "cell_type": "code",
   "execution_count": 7,
   "id": "8c89d6df-7abe-4c0c-b720-fc1705d4886b",
   "metadata": {},
   "outputs": [
    {
     "name": "stdout",
     "output_type": "stream",
     "text": [
      "CONTROL 1 54321\n",
      "TRANS LAMBERT WGS-84 48.0 -121.3 46.9 49.1 0.0 # modified\n",
      "LOCSIG CRESCENT -- UO\n",
      "LOCFILES ./nll_picks/NLL_picks.txt NLLOC_OBS ../creating_polygons/time/delph_poly2_lcc ./loc/test_loc #modified\n",
      "LOCHYPOUT SAVE_NLLOC_ALL SAVE_HYPOINV_SUM FILENAME_PUBLIC_ID\n",
      "LOCSEARCH OCT 17 11 6 0.001 100000 10000 0 0\n",
      "LOCMETH EDT_OT_WT 9999.0 4 -1 -1 -1 -1 -1 1\n",
      "LOCGAU 0.2 0.0\n",
      "LOCGAU2 0.01 0.05 2.0\n",
      "LOCPHASEID  P   P\n",
      "LOCPHASEID  S   S\n",
      "LOCQUAL2ERR 0.1 0.5 1.0 2.0 99999.9\n",
      "LOCGRID 249 249 105 -124.0 -124.0 -4.0 1.0 1.0 1.0 PROB_DENSITY  SAVE # modified\n",
      "LOCPHSTAT 9999.0 -1 9999.0 1.0 1.0 9999.9 -9999.9 9999.9\n",
      "LOCANGLES ANGLES_YES 5\n",
      "LOCMAG ML_HB 1.0 1.110 0.00189\n"
     ]
    }
   ],
   "source": [
    "# What does it look like after modifying the .run file for the commands\n",
    "with open(out_file, 'r') as file:\n",
    "    lines = file.readlines()\n",
    "    non_comment_lines = [line.strip() for line in lines if not line.strip().startswith('#') and line.strip()]\n",
    "    for line in non_comment_lines:\n",
    "        print(line)"
   ]
  }
 ],
 "metadata": {
  "kernelspec": {
   "display_name": "Python 3 (ipykernel)",
   "language": "python",
   "name": "python3"
  },
  "language_info": {
   "codemirror_mode": {
    "name": "ipython",
    "version": 3
   },
   "file_extension": ".py",
   "mimetype": "text/x-python",
   "name": "python",
   "nbconvert_exporter": "python",
   "pygments_lexer": "ipython3",
   "version": "3.12.6"
  }
 },
 "nbformat": 4,
 "nbformat_minor": 5
}
