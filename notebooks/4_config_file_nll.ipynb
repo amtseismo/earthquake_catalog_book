{
 "cells": [
  {
   "cell_type": "markdown",
   "id": "9ab564fc-a608-4cd8-bba6-c3a163476e47",
   "metadata": {},
   "source": [
    "# Generate the NonLinLoc config files\n",
    "This notebook generate the necessary input file for NLL Vel2Grid and Grid2Time (config.in) using the output of the notebook 3_velocity_to_poly_nnl\n",
    "\n",
    "Webase the input files on the two templates files:\n",
    "- nlloc_runfile_template.in \n",
    "- ttgrid_runfile_template.in\n",
    "\n",
    "Based on the work of Loïs Papin with edits from Daniel Trugman\n",
    "\n",
    "NonLinLoc: {cite:t}`Lomax2000`, {cite:t}`Lomax2009`"
   ]
  },
  {
   "cell_type": "code",
   "execution_count": 1,
   "id": "962729c5-c0bb-4d78-b9cc-f238129cf7bf",
   "metadata": {},
   "outputs": [],
   "source": [
    "import os\n",
    "import json"
   ]
  },
  {
   "cell_type": "markdown",
   "id": "c40dba19-41ce-45fb-8bdf-80a2cba3f8a4",
   "metadata": {},
   "source": [
    "## set of input parameter\n",
    "* poly_id: id of the polygon (int)\n",
    "* wave: One at a time for the grids calculation, P or S\n",
    "* out_name: for VGOUT and time tables"
   ]
  },
  {
   "cell_type": "code",
   "execution_count": 2,
   "id": "b033a894-a433-4afd-999e-3e5d591f6a79",
   "metadata": {},
   "outputs": [
    {
     "data": {
      "text/plain": [
       "{'poly_id': 2.0,\n",
       " 'olon': -121.3,\n",
       " 'olat': 48.0,\n",
       " 'plat1': 46.9,\n",
       " 'plat2': 49.1,\n",
       " 'xmin': -124.0,\n",
       " 'xmax': 124.0,\n",
       " 'xsep': 1.0,\n",
       " 'ymin': -124.0,\n",
       " 'ymax': 124.0,\n",
       " 'ysep': 1.0,\n",
       " 'zmin': -4.0,\n",
       " 'zmax': 100.0,\n",
       " 'zsep': 1.0,\n",
       " 'minlon': -122.6,\n",
       " 'maxlon': -120.0,\n",
       " 'minlat': 46.9,\n",
       " 'maxlat': 49.1}"
      ]
     },
     "execution_count": 2,
     "metadata": {},
     "output_type": "execute_result"
    }
   ],
   "source": [
    "# create output\n",
    "os.makedirs(f'./out_NLL_config_files', exist_ok=True)\n",
    "\n",
    "# define polygon\n",
    "poly_id = 2\n",
    "\n",
    "# one file for each phase\n",
    "wave = \"P\"\n",
    "out_fileP = f'./out_NLL_config_files/ttgrid_runfile_poly{poly_id}_{wave}.in'\n",
    "wave = \"S\"\n",
    "out_fileS = f'./out_NLL_config_files/ttgrid_runfile_poly{poly_id}_{wave}.in'\n",
    "\n",
    "# params\n",
    "out_name = \"delph\"\n",
    "# with open(\"cascadia_poly.json\", 'r+') as file:\n",
    "with open(\"cascadia_poly.json\", 'r+') as file:\n",
    "    file_data = json.load(file)\n",
    "poly_param = file_data[poly_id-1]\n",
    "poly_param"
   ]
  },
  {
   "cell_type": "markdown",
   "id": "792f0130-6aae-4e92-af5b-eadcc9fff420",
   "metadata": {},
   "source": [
    "## Generic control file statements\n",
    "Set transform"
   ]
  },
  {
   "cell_type": "code",
   "execution_count": 3,
   "id": "74c17c60-0df3-4dc6-af46-b8ed2ce2ecc7",
   "metadata": {},
   "outputs": [],
   "source": [
    "def edit_trans_cmd(nll_cmd_lines, poly_param):\n",
    "    # Find and replace the TRANS line in the .run file\n",
    "    for i, line in enumerate(nll_cmd_lines):\n",
    "        if line.startswith('TRANS'):\n",
    "            nll_cmd_lines[i] = f\"TRANS LAMBERT WGS-84 {poly_param['olat']} {poly_param['olon']} {poly_param['plat1']} {poly_param['plat2']} 0.0\" + ' # modified' + '\\n'\n",
    "            return nll_cmd_lines"
   ]
  },
  {
   "cell_type": "code",
   "execution_count": 4,
   "id": "05e5d7d8-4c9c-4501-b8a3-2842a8e8e9f5",
   "metadata": {},
   "outputs": [
    {
     "name": "stdout",
     "output_type": "stream",
     "text": [
      "TRANS lines have been modified successfully.\n",
      "TRANS lines have been modified successfully.\n"
     ]
    }
   ],
   "source": [
    "# Read the template file\n",
    "with open('./templates_NLL/ttgrid_runfile_template.in', 'r') as file:\n",
    "    nll_cmd_lines = file.readlines()\n",
    "\n",
    "# modify TRANS\n",
    "nll_cmd_lines = edit_trans_cmd(nll_cmd_lines, poly_param)\n",
    "\n",
    "# Write the modified content back to a new files\n",
    "for out_file in [out_fileP, out_fileS]:\n",
    "    with open(out_file, 'w') as file:\n",
    "        file.writelines(line.rstrip() + '\\n' for line in nll_cmd_lines)\n",
    "    print('TRANS lines have been modified successfully.')"
   ]
  },
  {
   "cell_type": "markdown",
   "id": "dc60302a-87ee-43be-bfb4-0fd49b1608d0",
   "metadata": {},
   "source": [
    "## Vel2Grid3D\n",
    "\n",
    "*Given an existing 3D velocity model defined by interpolation between control point nodes and created by velocity inversion programs such as SimulPS, Simul2000 and FDTomo to a 3D model grid. (outputs a 3D Grid) , Vel2Grid3D generates a 3D model Grid header and buffer files containing velocities, slownesses or other model specification.*\n",
    "\n",
    "command lines for Vel2Grid:\n",
    "* VGGRID\n",
    "* VGTYPE\n",
    "* VGOUT\n",
    "* VGINP"
   ]
  },
  {
   "cell_type": "code",
   "execution_count": 5,
   "id": "8d47d548-6e63-4807-a8cf-a9aafa2fa853",
   "metadata": {},
   "outputs": [],
   "source": [
    "def edit_vggrid_cmd(nll_cmd_lines, poly_param):\n",
    "    # Find and replace the VGGRID line in the .run file\n",
    "    x_num = int(((poly_param['xmax'] - poly_param['xmin'])//poly_param['xsep'])+1)\n",
    "    y_num = int(((poly_param['ymax'] - poly_param['ymin'])//poly_param['ysep'])+1)\n",
    "    z_num = int(((poly_param['zmax'] - poly_param['zmin'])//poly_param['zsep'])+1)\n",
    "    # Syntax 1: VGGRID xNum yNum zNum xOrig yOrig zOrig dx dy dz gridType\n",
    "    vggrid_command = f\"VGGRID {x_num} {y_num} {z_num} {poly_param['xmin']} {poly_param['ymin']} {poly_param['zmin']}\"\\\n",
    "                     f\" {poly_param['xsep']} {poly_param['ysep']} {poly_param['zsep']} SLOW_LEN\"\n",
    "    for i, line in enumerate(nll_cmd_lines):\n",
    "        if line.startswith('VGGRID'):\n",
    "            nll_cmd_lines[i] = vggrid_command + ' # modified' + '\\n'\n",
    "            return nll_cmd_lines\n",
    "        \n",
    "def edit_vgtype_cmd(nll_cmd_lines, wave):\n",
    "    # Find and replace the VGTYPE line in the .run file\n",
    "    for i, line in enumerate(nll_cmd_lines):\n",
    "        if line.startswith('VGTYPE'):\n",
    "            nll_cmd_lines[i] = f\"VGTYPE {wave}\" + ' # modified' + '\\n'\n",
    "            return nll_cmd_lines\n",
    "        \n",
    "def edit_vgout_cmd(nll_cmd_lines, out_name, poly_id):\n",
    "    # Find and replace the VGOUT line in the .run file\n",
    "    for i, line in enumerate(nll_cmd_lines):\n",
    "        if line.startswith('VGOUT'):\n",
    "            nll_cmd_lines[i] = f\"VGOUT ./model/{out_name}_poly{poly_id}_lcc\" + ' # modified' + '\\n'\n",
    "            return nll_cmd_lines\n",
    "        \n",
    "def edit_vginp_cmd(nll_cmd_lines, input_filename_simulPS):\n",
    "    vginp_command = 'VGINP ' + input_filename_simulPS + ' SIMUL2K 0 0 0'\n",
    "    # Find and replace the VGINP line in the .run file\n",
    "    for i, line in enumerate(nll_cmd_lines):\n",
    "        if line.startswith('#VGINP'):\n",
    "            nll_cmd_lines[i] = vginp_command + ' # modified' + '\\n'\n",
    "            return nll_cmd_lines"
   ]
  },
  {
   "cell_type": "code",
   "execution_count": 6,
   "id": "24789489-8c74-4952-962d-eebce48e90ed",
   "metadata": {
    "tags": []
   },
   "outputs": [
    {
     "name": "stdout",
     "output_type": "stream",
     "text": [
      "VGGRID, VGTYPE, VGOUT, VGINP lines have been modified successfully.\n",
      "VGGRID, VGTYPE, VGOUT, VGINP lines have been modified successfully.\n"
     ]
    }
   ],
   "source": [
    "# Read the previously modified .run file\n",
    "\n",
    "# one each for P and S\n",
    "for out_file in [out_fileP, out_fileS]:\n",
    "\n",
    "    # extract wave type\n",
    "    wave = out_file[-4]\n",
    "\n",
    "    # open existing file\n",
    "    with open(out_file, 'r') as file:\n",
    "        nll_cmd_lines = file.readlines()\n",
    "    \n",
    "    # modify VGGRID\n",
    "    nll_cmd_lines = edit_vggrid_cmd(nll_cmd_lines, poly_param)\n",
    "    \n",
    "    # modify VGTYPE\n",
    "    nll_cmd_lines = edit_vgtype_cmd(nll_cmd_lines, wave)\n",
    "    \n",
    "    # modify VGOUT\n",
    "    nll_cmd_lines = edit_vgout_cmd(nll_cmd_lines, out_name, poly_id)\n",
    "    \n",
    "    # modify VGINP\n",
    "    input_filename_simulPS = f'../data/velocity_models/simulPS/delph_simulps_poly{poly_id}_lcc_200R_{wave}.txt' # Location of the PS velocity models from nb3\n",
    "    nll_cmd_lines = edit_vginp_cmd(nll_cmd_lines, input_filename_simulPS)\n",
    "    \n",
    "    # Write the modified content back to a new file (or overwrite the original)\n",
    "    with open(out_file, 'w') as file:\n",
    "        file.writelines(line.rstrip() + '\\n' for line in nll_cmd_lines)\n",
    "    print('VGGRID, VGTYPE, VGOUT, VGINP lines have been modified successfully.')"
   ]
  },
  {
   "cell_type": "markdown",
   "id": "cc38b675-0158-4e26-a4f9-a139d9882311",
   "metadata": {},
   "source": [
    "## Grid2Time\n",
    "\n",
    "*Given a velocity model grid, Grid2Time calculates the travel-time from a source point in a 3D grid to all other points in the grid. Optionally, the program also estimates the take-off angles for rays from each point in the grid to the source.*\n",
    "\n",
    "Commands to edit:\n",
    "* INCLUDE : used in place of multiple GTSOURCE, coordinates of the stations that will be used for the locations.\n",
    "* GTFILES"
   ]
  },
  {
   "cell_type": "code",
   "execution_count": 7,
   "id": "d8a913e2-cde6-4ad8-91e8-54f71c6c5edc",
   "metadata": {},
   "outputs": [],
   "source": [
    "def edit_include_cmd(nll_cmd_lines, input_filename_stas):\n",
    "    include_command = 'INCLUDE ' + input_filename_stas\n",
    "    # Find and replace the INCLUDE line in the .run file\n",
    "    for i, line in enumerate(nll_cmd_lines):\n",
    "        if line.startswith('INCLUDE'):\n",
    "            nll_cmd_lines[i] = include_command + ' # modified' + '\\n'\n",
    "            return nll_cmd_lines\n",
    "        \n",
    "def edit_gtfiles_cmd(nll_cmd_lines, out_name, poly_id, wave):\n",
    "    # Find and replace the INCLUDE line in the .run file\n",
    "    for i, line in enumerate(nll_cmd_lines):\n",
    "        if line.startswith('GTFILES'):\n",
    "            nll_cmd_lines[i] = f\"GTFILES ./model/{out_name}_poly{poly_id}_lcc ./time/{out_name}_poly{poly_id}_lcc {wave}\" + ' # modified' + '\\n'\n",
    "            return nll_cmd_lines"
   ]
  },
  {
   "cell_type": "code",
   "execution_count": 8,
   "id": "ea4a1fe2-c7c8-43af-bc84-33f4dddb4886",
   "metadata": {},
   "outputs": [
    {
     "name": "stdout",
     "output_type": "stream",
     "text": [
      "INCLUDE and GTFILES lines have been added successfully.\n",
      "INCLUDE and GTFILES lines have been added successfully.\n"
     ]
    }
   ],
   "source": [
    "# Read the previously modified .run file\n",
    "\n",
    "# one each for P and S\n",
    "for out_file in [out_fileP, out_fileS]:\n",
    "\n",
    "    # extract wave type\n",
    "    wave = out_file[-4]\n",
    "\n",
    "    # read existing file\n",
    "    with open(out_file, 'r') as file:\n",
    "        nll_cmd_lines = file.readlines()\n",
    "    \n",
    "    # modify INCLUDE for station location\n",
    "    # Determine the .txt file for station coordinates\n",
    "    input_filename_stas = f'./stations_poly/stations_poly{poly_id}.txt'\n",
    "    nll_cmd_lines = edit_include_cmd(nll_cmd_lines, input_filename_stas)\n",
    "    \n",
    "    # modify GTFILES\n",
    "    nll_cmd_lines = edit_gtfiles_cmd(nll_cmd_lines, out_name, poly_id, wave)\n",
    "            \n",
    "    # Write the modified content back to a new file (or overwrite the original)\n",
    "    with open(out_file, 'w') as file:\n",
    "        file.writelines(line.rstrip() + '\\n' for line in nll_cmd_lines)\n",
    "    \n",
    "    print('INCLUDE and GTFILES lines have been added successfully.')"
   ]
  },
  {
   "cell_type": "markdown",
   "id": "e3745071-e569-4805-94ff-626c5c030809",
   "metadata": {},
   "source": [
    "## verify config file for Vel2Grid and Grid2Time"
   ]
  },
  {
   "cell_type": "code",
   "execution_count": 9,
   "id": "7c778000-02a1-486a-89ba-b5e5785e0d7e",
   "metadata": {},
   "outputs": [
    {
     "name": "stdout",
     "output_type": "stream",
     "text": [
      "CONTROL 1 54321\n",
      "TRANS LAMBERT WGS-84 48.0 -121.3 46.9 49.1 0.0 # modified\n",
      "VGOUT ./model/delph_poly2_lcc # modified\n",
      "VGTYPE P # modified\n",
      "VGGRID 249 249 105 -124.0 -124.0 -4.0 1.0 1.0 1.0 SLOW_LEN # modified\n",
      "VGINP ../data/velocity_models/simulPS/delph_simulps_poly2_lcc_200R_P.txt SIMUL2K 0 0 0 # modified\n",
      "GTFILES ./model/delph_poly2_lcc ./time/delph_poly2_lcc P # modified\n",
      "GTMODE GRID3D ANGLES_NO\n",
      "INCLUDE ./stations_poly/stations_poly2.txt # modified\n",
      "GT_PLFD  1.0e-3  0\n",
      "\n",
      "CONTROL 1 54321\n",
      "TRANS LAMBERT WGS-84 48.0 -121.3 46.9 49.1 0.0 # modified\n",
      "VGOUT ./model/delph_poly2_lcc # modified\n",
      "VGTYPE S # modified\n",
      "VGGRID 249 249 105 -124.0 -124.0 -4.0 1.0 1.0 1.0 SLOW_LEN # modified\n",
      "VGINP ../data/velocity_models/simulPS/delph_simulps_poly2_lcc_200R_S.txt SIMUL2K 0 0 0 # modified\n",
      "GTFILES ./model/delph_poly2_lcc ./time/delph_poly2_lcc S # modified\n",
      "GTMODE GRID3D ANGLES_NO\n",
      "INCLUDE ./stations_poly/stations_poly2.txt # modified\n",
      "GT_PLFD  1.0e-3  0\n",
      "\n"
     ]
    }
   ],
   "source": [
    "# What does it look like after modifying the .run file for the commands\n",
    "\n",
    "# one each for P and S\n",
    "for out_file in [out_fileP, out_fileS]:\n",
    "    with open(out_file, 'r') as file:\n",
    "        lines = file.readlines()\n",
    "        non_comment_lines = [line.strip() for line in lines if not line.strip().startswith('#') and line.strip()]\n",
    "        for line in non_comment_lines:\n",
    "            print(line)\n",
    "    print()"
   ]
  },
  {
   "cell_type": "code",
   "execution_count": null,
   "id": "f87b6760-b131-4525-ae1d-0e3add4b2979",
   "metadata": {},
   "outputs": [],
   "source": []
  }
 ],
 "metadata": {
  "kernelspec": {
   "display_name": "Python 3 (ipykernel)",
   "language": "python",
   "name": "python3"
  },
  "language_info": {
   "codemirror_mode": {
    "name": "ipython",
    "version": 3
   },
   "file_extension": ".py",
   "mimetype": "text/x-python",
   "name": "python",
   "nbconvert_exporter": "python",
   "pygments_lexer": "ipython3",
   "version": "3.12.6"
  }
 },
 "nbformat": 4,
 "nbformat_minor": 5
}
