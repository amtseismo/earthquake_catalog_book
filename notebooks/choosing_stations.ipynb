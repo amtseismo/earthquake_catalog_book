{
 "cells": [
  {
   "cell_type": "markdown",
   "id": "884dc72c-d73c-4b0c-bb3b-f983511a8f68",
   "metadata": {},
   "source": [
    "# Choosing stations"
   ]
  },
  {
   "cell_type": "markdown",
   "id": "4d019de9-929d-48da-844e-b1e080d793d8",
   "metadata": {},
   "source": [
    "We wish to mine only stations from continuous networks in the Cascadia region.  To find these stations we:\n",
    "1. Search IRIS database for HH?, EH?, BH?, SH? stations from permanent networks between 2010/1/1 and 7/122024 between -129/-120/39/51 and save as `gmap-stations.txt`\n",
    "2. Remove AM network (Raspberry shake), remove GM (not available), remove OO (offshore), remove NV (offshore) and save resulting file as `cascadia.stations`.  Stations in the resulting set come from 21 different networks.\n",
    "3. One thing thats obvious from looking at the resulting file is that even though stations are part of permanent networks they often aren't deployed very long.  Also, there are duplicate station entries resulting from downloading from different datacenters. To fix this, we remove duplicates and add a filter that requires the station operate for at least 1 year using `filter_stations.py`.  The resulting file is called `cascadia.stations.filtered` and contains 805 unique stations.\n",
    "4. Made a map with cascadia.gmt.  A useful portion of this code is `awk -F\"|\" '{print $1}' cascadia.stations | sort | uniq | awk '{printf \"%s \", $1}' BK C8 CC CE CN GS IU LB LI NC NN PB PN PO PQ RE UI UO US UW WR`\n",
    "5. (for HPC) Used make_rover.scr to make input files for rover.  Launched them on talapas (University of Oregon cluster) using make_rover_2024_srun.scr."
   ]
  },
  {
   "cell_type": "code",
   "execution_count": null,
   "id": "4c73a148-fdb0-4dd7-bf96-065edc83a022",
   "metadata": {},
   "outputs": [],
   "source": []
  }
 ],
 "metadata": {
  "kernelspec": {
   "display_name": "Python 3 (ipykernel)",
   "language": "python",
   "name": "python3"
  },
  "language_info": {
   "codemirror_mode": {
    "name": "ipython",
    "version": 3
   },
   "file_extension": ".py",
   "mimetype": "text/x-python",
   "name": "python",
   "nbconvert_exporter": "python",
   "pygments_lexer": "ipython3",
   "version": "3.12.4"
  }
 },
 "nbformat": 4,
 "nbformat_minor": 5
}
