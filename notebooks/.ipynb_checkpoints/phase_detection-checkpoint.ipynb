{
 "cells": [
  {
   "cell_type": "markdown",
   "id": "44f99262-c521-44c7-8225-48c44ba3aa13",
   "metadata": {},
   "source": [
    "# Machine Learning Phase Detections"
   ]
  },
  {
   "cell_type": "markdown",
   "id": "9869f09f-6551-4bd1-90c9-adb80bd4fec5",
   "metadata": {},
   "source": [
    "We use three common seismic body wave picking models to identify P and S waves in continuous seismic data.  The first is Phasenet (Zhu and Beroza).  The second is EQTransformer (Mousavi et al.) and the final model is one with an architecture similar to Phasenet but trained specifically on data from Cascadia.  We use these three models together, instead of a single model, to more robustly identify picks.  Both PhaseNet and EQTransformer are available via Seisbench.  A basic picking script that utilizes the Seisbench framework follows."
   ]
  },
  {
   "cell_type": "code",
   "execution_count": 2,
   "id": "f8b6b80e-43f7-4aa2-8390-3f110df6c246",
   "metadata": {},
   "outputs": [
    {
     "ename": "ModuleNotFoundError",
     "evalue": "No module named 'obspy'",
     "output_type": "error",
     "traceback": [
      "\u001b[0;31m---------------------------------------------------------------------------\u001b[0m",
      "\u001b[0;31mModuleNotFoundError\u001b[0m                       Traceback (most recent call last)",
      "Cell \u001b[0;32mIn[2], line 1\u001b[0m\n\u001b[0;32m----> 1\u001b[0m \u001b[38;5;28;01mimport\u001b[39;00m \u001b[38;5;21;01mobspy\u001b[39;00m\n\u001b[1;32m      2\u001b[0m \u001b[38;5;28;01mfrom\u001b[39;00m \u001b[38;5;21;01mobspy\u001b[39;00m \u001b[38;5;28;01mimport\u001b[39;00m UTCDateTime, Stream\n\u001b[1;32m      3\u001b[0m \u001b[38;5;28;01mimport\u001b[39;00m \u001b[38;5;21;01mglob\u001b[39;00m\n",
      "\u001b[0;31mModuleNotFoundError\u001b[0m: No module named 'obspy'"
     ]
    }
   ],
   "source": []
  },
  {
   "cell_type": "code",
   "execution_count": null,
   "id": "4edc4585-4deb-4d98-a5ae-93b7928d1057",
   "metadata": {},
   "outputs": [],
   "source": []
  }
 ],
 "metadata": {
  "kernelspec": {
   "display_name": "Python 3 (ipykernel)",
   "language": "python",
   "name": "python3"
  },
  "language_info": {
   "codemirror_mode": {
    "name": "ipython",
    "version": 3
   },
   "file_extension": ".py",
   "mimetype": "text/x-python",
   "name": "python",
   "nbconvert_exporter": "python",
   "pygments_lexer": "ipython3",
   "version": "3.12.4"
  }
 },
 "nbformat": 4,
 "nbformat_minor": 5
}
