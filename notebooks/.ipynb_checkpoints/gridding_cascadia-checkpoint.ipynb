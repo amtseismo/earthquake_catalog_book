{
 "cells": [
  {
   "cell_type": "markdown",
   "id": "2e6d1013-7fb8-4fa4-bf18-04e354b7e226",
   "metadata": {},
   "source": [
    "# Gridding Cascadia"
   ]
  },
  {
   "cell_type": "markdown",
   "id": "ac5bb785-fe03-4ddc-96ca-17703835f008",
   "metadata": {},
   "source": [
    "We use the Eikonal ray tracing software included in nonlinloc to compute travel time tables for the Cascadia Subduction Zone. To keep the grid sizes manageable, we separate Cascadia into 12 subregions that have boundaries that overlap by 0.2 degrees.  The lateral dimensions of these grids is <= 245 km so there shouldn't be any problems with a flat Earth approximation.  "
   ]
  },
  {
   "cell_type": "markdown",
   "id": "0d49b152-89c6-4517-a7dc-382e6b68b7f1",
   "metadata": {},
   "source": [
    "The script `grid_locations.py` contains the grid names, boundaries, and generates the plot below showing the grid locations."
   ]
  },
  {
   "cell_type": "markdown",
   "id": "5505e0e7-a01e-4ba1-96a3-0e523ebd9a79",
   "metadata": {},
   "source": [
    "```{figure} ../../locations/velocity_model_grids.png\n",
    "---\n",
    "height: 600px\n",
    "name: directive-fig\n",
    "---\n",
    "Velocity model grids in Cascadia\n",
    "```"
   ]
  },
  {
   "cell_type": "markdown",
   "id": "ec1de767-84f5-4f03-a579-2b25abbc8487",
   "metadata": {},
   "source": [
    ":::{list-table} Velocity model grid boundaries\n",
    ":widths: 20 20 20 20 20\n",
    ":header-rows: 1\n",
    "\n",
    "*   - Box ID\n",
    "    - Minimum Longitude\n",
    "    - Maximum Longitude\n",
    "    - Minimum Latitude\n",
    "    - Maximum Latitude\n",
    "*   - 1\n",
    "    - -128.5\n",
    "    - -125.4\n",
    "    - 48.9\n",
    "    - 51\n",
    "*   - 2\n",
    "    - -125.6\n",
    "    - -122.5\n",
    "    - 48.9\n",
    "    - 51\n",
    "*   - 3\n",
    "    - -125.8\n",
    "    - -122.8\n",
    "    - 46.9\n",
    "    - 49.1\n",
    "*   - 4\n",
    "    - -123\n",
    "    - -120\n",
    "    - 46.9\n",
    "    - 49.1\n",
    "*   - 5\n",
    "    - -124.2\n",
    "    - -122\n",
    "    - 47.1\n",
    "    - 44.9\n",
    "*   - 6\n",
    "    - -122.2\n",
    "    - -120\n",
    "    - 44.9\n",
    "    - 47.1\n",
    "*   - 7\n",
    "    - -124.6\n",
    "    - -122.15\n",
    "    - 42.9\n",
    "    - 45.1\n",
    "*   - 8\n",
    "    - -122.35\n",
    "    - -120\n",
    "    - 42.9\n",
    "    - 45.1\n",
    "*   - 9\n",
    "    - -124.6\n",
    "    - -122.15\n",
    "    - 40.9\n",
    "    - 43.1\n",
    "*   - 10\n",
    "    - -122.35\n",
    "    - -120\n",
    "    - 40.9\n",
    "    - 43.1\n",
    "*   - 11\n",
    "    - -124.5\n",
    "    - -122.15\n",
    "    - 38.9\n",
    "    - 41.1\n",
    "*   - 12\n",
    "    - -122.35\n",
    "    - -120\n",
    "    - 38.9\n",
    "    - 41.1\n",
    "\n",
    ":::"
   ]
  },
  {
   "cell_type": "code",
   "execution_count": null,
   "id": "56fd6e6a-1458-472e-9366-db4a4b1256ee",
   "metadata": {},
   "outputs": [],
   "source": []
  }
 ],
 "metadata": {
  "kernelspec": {
   "display_name": "Python 3 (ipykernel)",
   "language": "python",
   "name": "python3"
  },
  "language_info": {
   "codemirror_mode": {
    "name": "ipython",
    "version": 3
   },
   "file_extension": ".py",
   "mimetype": "text/x-python",
   "name": "python",
   "nbconvert_exporter": "python",
   "pygments_lexer": "ipython3",
   "version": "3.12.4"
  }
 },
 "nbformat": 4,
 "nbformat_minor": 5
}
