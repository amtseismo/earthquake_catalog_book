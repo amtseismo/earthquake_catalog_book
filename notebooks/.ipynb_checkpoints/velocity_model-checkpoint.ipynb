{
 "cells": [
  {
   "cell_type": "markdown",
   "id": "01b9a23c-025e-4010-a6f0-b7bcb24a6a58",
   "metadata": {},
   "source": [
    "# Creating travel time tables"
   ]
  },
  {
   "cell_type": "markdown",
   "id": "51ab6d05-98d0-4a66-a42e-7841f0e5ebe0",
   "metadata": {},
   "source": [
    "Below we outline the steps required for creating travel time tables for the Cascadia Subduction Zone.  Once these are generated they are used to locate earthquakes using body wave phase arrival times."
   ]
  },
  {
   "cell_type": "markdown",
   "id": "6ce73df9-bbc8-4ce9-b79f-2783bd99369f",
   "metadata": {},
   "source": [
    "## Velocity Model"
   ]
  },
  {
   "cell_type": "markdown",
   "id": "992eaf64-bf49-4daf-9f80-d452d543b179",
   "metadata": {},
   "source": [
    "For this study we use the P- and S-wave velocity model of Delph et al. (2021). The model was developed by first inverting for the 3D model of P-wave radial receiver function conversion amplitudes using adaptive common conversion point stacking (Delph et al., 2015, 2017) and incorporated a 3D velocity model correction. This correction merges a previously derived 3D shear-wave velocity model (Delph et al., 2018) with a 2D crustal V~p~/V~s~ ratio model. The 3D variable V~p~/V~s~ ratio velocity model was constructed using 1) the slab top model by McCrory et al. (2012), 2) crustal thickness estimates based on Delph et al. (2018)'s shear-wave velocity model, and 3) V~p~/V~s~ ratio estimates from local body-wave travel times of near-slab seismicity. Detailed methodologies for creating the shear-wave velocity model, including the dataset, receiver function computation, and ambient noise methodology, are available in the supplementary material of Delph et al. (2018)."
   ]
  },
  {
   "cell_type": "code",
   "execution_count": 6,
   "id": "be6bb011-24e6-4ea6-8acc-e3368b9e7b86",
   "metadata": {},
   "outputs": [],
   "source": [
    "#TODO: Add some plots of the delph model here\n",
    "#TODO: Consider adding Stephenson model later"
   ]
  },
  {
   "cell_type": "markdown",
   "id": "ee233538-7c78-403d-8fb8-4c2f6910f090",
   "metadata": {},
   "source": [
    "## Gridding Cascadia"
   ]
  },
  {
   "cell_type": "markdown",
   "id": "dab9faa3-530d-4a6d-b6d0-829a80288fb4",
   "metadata": {},
   "source": [
    "We use the Eikonal ray tracing software included in nonlinloc to compute travel time tables for the Cascadia Subduction Zone.  To keep the grid sizes manageable, we separate Cascadia into a few subregions that have "
   ]
  },
  {
   "cell_type": "markdown",
   "id": "13bbff64-1280-48d1-901e-81130da929be",
   "metadata": {},
   "source": [
    "## Converting between HDF5/NetCDF and SimulPS"
   ]
  },
  {
   "cell_type": "code",
   "execution_count": null,
   "id": "3968d2fb-6b22-43a9-8f6d-6fab59e201b4",
   "metadata": {},
   "outputs": [],
   "source": []
  },
  {
   "cell_type": "markdown",
   "id": "4179d072-e661-4d4a-9064-4d0b5f7a7430",
   "metadata": {},
   "source": [
    "## Converting between HDF5/NetCDF and SimulPS"
   ]
  },
  {
   "cell_type": "code",
   "execution_count": null,
   "id": "1bb7f1ee-22e5-4c8e-a64d-9cb37e4e92fa",
   "metadata": {},
   "outputs": [],
   "source": []
  }
 ],
 "metadata": {
  "kernelspec": {
   "display_name": "Python 3 (ipykernel)",
   "language": "python",
   "name": "python3"
  },
  "language_info": {
   "codemirror_mode": {
    "name": "ipython",
    "version": 3
   },
   "file_extension": ".py",
   "mimetype": "text/x-python",
   "name": "python",
   "nbconvert_exporter": "python",
   "pygments_lexer": "ipython3",
   "version": "3.12.4"
  }
 },
 "nbformat": 4,
 "nbformat_minor": 5
}
