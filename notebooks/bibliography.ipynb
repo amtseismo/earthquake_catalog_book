{
 "cells": [
  {
   "cell_type": "markdown",
   "id": "79f5f0db-8050-4185-a2a6-180efcca82d0",
   "metadata": {},
   "source": [
    "# Bibliography"
   ]
  },
  {
   "cell_type": "markdown",
   "id": "2e417a50-9d8f-4c34-bca2-8697c4089918",
   "metadata": {},
   "source": [
    "```{bibliography}\n",
    ":style: plain\n",
    "```"
   ]
  },
  {
   "cell_type": "code",
   "execution_count": null,
   "id": "4fb0e6fc-ae46-4c41-9697-8b0ab6a6ca08",
   "metadata": {},
   "outputs": [],
   "source": []
  }
 ],
 "metadata": {
  "kernelspec": {
   "display_name": "Python 3 (ipykernel)",
   "language": "python",
   "name": "python3"
  },
  "language_info": {
   "codemirror_mode": {
    "name": "ipython",
    "version": 3
   },
   "file_extension": ".py",
   "mimetype": "text/x-python",
   "name": "python",
   "nbconvert_exporter": "python",
   "pygments_lexer": "ipython3",
   "version": "3.11.7"
  }
 },
 "nbformat": 4,
 "nbformat_minor": 5
}
