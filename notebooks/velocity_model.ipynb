{
 "cells": [
  {
   "cell_type": "markdown",
   "id": "01b9a23c-025e-4010-a6f0-b7bcb24a6a58",
   "metadata": {},
   "source": [
    "(velocity_model)=\n",
    "# Velocity Model"
   ]
  },
  {
   "cell_type": "markdown",
   "id": "992eaf64-bf49-4daf-9f80-d452d543b179",
   "metadata": {},
   "source": [
    "For this study we use a modified version of the 3D P- and S-wave velocity model of {cite:t}`delph2021subcretionary`. The S-wave velocity model was developed through the joint inversion of adaptive common conversion point-derived P-wave radial receiver functions and Rayleigh wave phase velocity measurements from ambient noise cross correlations following Delph et al. (2015, 2017), and was presented by Delph et al. (2018). To map S-wave velocities to P-wave velocities, {cite:t}`delph2021subcretionary` created a 2D crustal Vp/Vs model using Wadati diagrams of earthquakes from the USGS NEIC catalog and low-frequency earthquakes if they were present  from Royer & Bostock (2014). These Vp/Vs values were then binned and averaged, and used to convert the 3D crustal S-wave velocities to P-wave velocities as constrained by either the slab top model (McCrory et al. 2012) where the overriding crust lies directly on top of the downgoing slab, or the Moho of the overriding plate. We used a Vp/Vs of 1.78 in the mantle or where no Vp/Vs constraint could be obtained due to lack of earthquakes, as it generally corresponds to the Vp/Vs of peridotite at ~1 GPa as well as intermediate/mafic crust (Christiansen, 1996). The model we use  deviates slightly from {cite:t}`delph2021subcretionary` in that any S-wave velocities that exceeded 4.5 km/s was automatically set to 4.5 km/s, as expected for uppermost mantle velocities based on global models and laboratory measurements of peridotite (Christensen, 1996; Kennett et al. 1991). Detailed methodologies for creating the S-wave and P-wave velocity model, including the dataset, receiver function computation, and ambient noise methodology, are available in Delph et al. (2018, 2021)."
   ]
  },
  {
   "cell_type": "markdown",
   "id": "d8e21d74-0679-4fe9-88a4-3e1e13ca2fb5",
   "metadata": {},
   "source": [
    "```{figure} ../figures/velocity_depth5.png\n",
    "---\n",
    "height: 600px\n",
    "name: delph_model_5km\n",
    "---\n",
    "Delph interpolated velocity model in Cascadia\n",
    "```"
   ]
  },
  {
   "cell_type": "markdown",
   "source": [
    "In this chapter, you will find 3 notebooks describing the necessary steps to prepare the velocity model into simulPS:\n",
    "* Prepare the polygons json file: helper notebook to write a json file with the necessary parameters to define each area [1_write_poly_param](./1_write_poly_param.ipynb) (not necessary to use, it is possible to write the json by hand)\n",
    "* Prepare the velocity model: Convert the 3D velocity to xarray and does the necessary interpolations/extrapolations [2_read_velocity_to_xr](./2_read_velocity_to_xr.ipynb)\n",
    "* Save the velocity model (P and S) in the simulPS format for all polygons: Takes the json file and the velocity model as input [3_velocity_to_poly_nnl](./3_velocity_to_poly_nnl.ipynb)"
   ],
   "metadata": {
    "collapsed": false
   },
   "id": "ede8c811af2c7dbc"
  }
 ],
 "metadata": {
  "kernelspec": {
   "display_name": "Python 3 (ipykernel)",
   "language": "python",
   "name": "python3"
  },
  "language_info": {
   "codemirror_mode": {
    "name": "ipython",
    "version": 3
   },
   "file_extension": ".py",
   "mimetype": "text/x-python",
   "name": "python",
   "nbconvert_exporter": "python",
   "pygments_lexer": "ipython3",
   "version": "3.11.7"
  }
 },
 "nbformat": 4,
 "nbformat_minor": 5
}
