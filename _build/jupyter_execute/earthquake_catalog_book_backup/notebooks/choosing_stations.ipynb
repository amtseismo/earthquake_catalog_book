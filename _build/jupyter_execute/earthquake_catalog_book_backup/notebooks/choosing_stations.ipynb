{
 "cells": [
  {
   "cell_type": "markdown",
   "id": "30b4ecc4-3bff-4975-8f16-28614552a558",
   "metadata": {},
   "source": [
    "# Choosing stations"
   ]
  },
  {
   "cell_type": "markdown",
   "id": "92b867e0-5f3a-453f-bb72-d0bfefa84427",
   "metadata": {},
   "source": [
    "To select stations for the data mining effort we take the following steps.\n",
    "\n",
    "1. Search IRIS database for HH?, EH?, BH?, SH? stations from permanent networks between 2010 and 7/12/2024 between -129/-120/39/51 and save as gmap-stations.txt\n",
    "2. Remove AM network (Raspberry shake), GM (not available), NV and OO (offshore) and save to cascadia.stations\n",
    "3. Within the downloaded data stations are duplicated and may are part of permanent networks but have short operating times meaning they are actually temporary.  To correct these issues we use the script `filter_stations.py` to cull duplicates and remove stations operating less than one year.  The resulting station list has 806 unique entries over 21 networks saved in cascadia.stations.filtered.\n",
    "4. Edited and made map (shown below) with `cascadia.gmt`.\n",
    "5. (for on-prem data mining) Used make_rover.scr to make input files for rover. Launched them on talapas using make_rover_2024_srun.scr."
   ]
  },
  {
   "cell_type": "markdown",
   "id": "981e4de2-0070-4814-bfcb-61424d4cf734",
   "metadata": {},
   "source": [
    "```{figure} ../figures/casmap.png\n",
    "---\n",
    "height: 600px\n",
    "name: directive-fig\n",
    "---\n",
    "Permanent stations in Cascadia that will be used as part of the CRESCENT earthquake catalog.\n",
    "```"
   ]
  },
  {
   "cell_type": "code",
   "execution_count": null,
   "id": "c721ba5e-afde-4df6-aca5-f6e3e1b66a01",
   "metadata": {},
   "outputs": [],
   "source": []
  }
 ],
 "metadata": {
  "kernelspec": {
   "display_name": "Python 3 (ipykernel)",
   "language": "python",
   "name": "python3"
  },
  "language_info": {
   "codemirror_mode": {
    "name": "ipython",
    "version": 3
   },
   "file_extension": ".py",
   "mimetype": "text/x-python",
   "name": "python",
   "nbconvert_exporter": "python",
   "pygments_lexer": "ipython3",
   "version": "3.11.7"
  }
 },
 "nbformat": 4,
 "nbformat_minor": 5
}