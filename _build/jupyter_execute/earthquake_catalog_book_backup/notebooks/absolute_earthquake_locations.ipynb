{
 "cells": [
  {
   "cell_type": "markdown",
   "id": "c86ef410-81c5-4c0e-bc65-0d7caac96c7b",
   "metadata": {},
   "source": [
    "# Locating earthquakes"
   ]
  },
  {
   "cell_type": "markdown",
   "id": "4a87e6f9-1205-4ad9-b290-472366072122",
   "metadata": {},
   "source": [
    "Once the travel times tables are created we are ready to locate earthquakes.  To do this we start first with analyst picked body wave arrivals archived in the Pacific Northwest Seismic Network catalog."
   ]
  },
  {
   "cell_type": "markdown",
   "id": "a0d7a276-f173-4280-a5fe-7c1a35acca3c",
   "metadata": {},
   "source": [
    "## Nonlinloc"
   ]
  },
  {
   "cell_type": "markdown",
   "id": "31633cc5-2896-4d1b-acd0-5c33999ff786",
   "metadata": {},
   "source": [
    "To obtain absolute earthquake locations, we utilize the nonlinloc software."
   ]
  },
  {
   "cell_type": "code",
   "execution_count": null,
   "id": "37467c1c-7436-4401-94ea-3c7320142154",
   "metadata": {},
   "outputs": [],
   "source": []
  }
 ],
 "metadata": {
  "kernelspec": {
   "display_name": "Python 3 (ipykernel)",
   "language": "python",
   "name": "python3"
  },
  "language_info": {
   "codemirror_mode": {
    "name": "ipython",
    "version": 3
   },
   "file_extension": ".py",
   "mimetype": "text/x-python",
   "name": "python",
   "nbconvert_exporter": "python",
   "pygments_lexer": "ipython3",
   "version": "3.11.7"
  }
 },
 "nbformat": 4,
 "nbformat_minor": 5
}