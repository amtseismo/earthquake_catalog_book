{
 "cells": [
  {
   "cell_type": "markdown",
   "id": "591129d1-ae2a-4a2f-a5dc-266c386a87d6",
   "metadata": {},
   "source": [
    "# Combining Picks"
   ]
  },
  {
   "cell_type": "markdown",
   "id": "8b3992ee-9041-411f-96b7-841dbe14fd4f",
   "metadata": {},
   "source": [
    "We need to combine the picks from the three models in some way before association..."
   ]
  },
  {
   "cell_type": "code",
   "execution_count": null,
   "id": "dd2e3e5d-5c42-4328-824c-6ea46afc0eee",
   "metadata": {},
   "outputs": [],
   "source": []
  }
 ],
 "metadata": {
  "kernelspec": {
   "display_name": "Python 3 (ipykernel)",
   "language": "python",
   "name": "python3"
  },
  "language_info": {
   "codemirror_mode": {
    "name": "ipython",
    "version": 3
   },
   "file_extension": ".py",
   "mimetype": "text/x-python",
   "name": "python",
   "nbconvert_exporter": "python",
   "pygments_lexer": "ipython3",
   "version": "3.12.4"
  }
 },
 "nbformat": 4,
 "nbformat_minor": 5
}