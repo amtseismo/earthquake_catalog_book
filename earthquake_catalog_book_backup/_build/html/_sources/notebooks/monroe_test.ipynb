{
 "cells": [
  {
   "cell_type": "markdown",
   "id": "adb648e8-de56-4b22-bfff-aeea920653af",
   "metadata": {},
   "source": [
    "# Monroe earthquake test"
   ]
  },
  {
   "cell_type": "markdown",
   "id": "7f0357c6-460f-4921-be34-f65872b71f2c",
   "metadata": {
    "editable": true,
    "slideshow": {
     "slide_type": ""
    },
    "tags": []
   },
   "source": [
    "To demonstrate the catalog workflow we present here we select an earthquake sequence of interest so that we can demonstrate the notebooks and other tools.  We selected the Monroe, WA earthquake, a M4. that occurred on July 12, 2019.\n",
    "\n",
    "To determine which stations to use for this earthquake, I used `get_stas_near_monroe.py` to check on station availability near the event. I selected a subset of stations -- BERY, JCW, BHW, HTW, TOLT, RATT, and SP2 -- to explore further. I made a map of these with gmt using `monroe.gmt`.  Shown below.\n",
    "\n",
    "I made a rover request to obtain the data, retrieved it, and stored it in XXX. TOLT would not download.  Looking at the logs looks like the BH? was replaced a few days before the earthquake.\n"
   ]
  },
  {
   "cell_type": "code",
   "execution_count": null,
   "id": "be7c5314-14f3-4dfe-afc5-841e16a02393",
   "metadata": {},
   "outputs": [],
   "source": []
  }
 ],
 "metadata": {
  "kernelspec": {
   "display_name": "Python 3 (ipykernel)",
   "language": "python",
   "name": "python3"
  },
  "language_info": {
   "codemirror_mode": {
    "name": "ipython",
    "version": 3
   },
   "file_extension": ".py",
   "mimetype": "text/x-python",
   "name": "python",
   "nbconvert_exporter": "python",
   "pygments_lexer": "ipython3",
   "version": "3.12.4"
  }
 },
 "nbformat": 4,
 "nbformat_minor": 5
}
