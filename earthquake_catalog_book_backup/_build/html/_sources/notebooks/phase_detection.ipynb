{
 "cells": [
  {
   "cell_type": "markdown",
   "id": "44f99262-c521-44c7-8225-48c44ba3aa13",
   "metadata": {},
   "source": [
    "# Machine Learning Phase Detections"
   ]
  },
  {
   "cell_type": "markdown",
   "id": "9869f09f-6551-4bd1-90c9-adb80bd4fec5",
   "metadata": {},
   "source": [
    "We use three common seismic body wave picking models to identify P and S waves in continuous seismic data.  The first is Phasenet (Zhu and Beroza).  The second is EQTransformer (Mousavi et al.) and the final model is one with an architecture similar to Phasenet but trained specifically on data from Cascadia.  We use these three models together, instead of a single model, to more robustly identify picks.  Both PhaseNet and EQTransformer are available via Seisbench.  A basic picking script that utilizes the Seisbench framework follows."
   ]
  },
  {
   "cell_type": "code",
   "execution_count": null,
   "id": "4edc4585-4deb-4d98-a5ae-93b7928d1057",
   "metadata": {},
   "outputs": [],
   "source": []
  }
 ],
 "metadata": {
  "kernelspec": {
   "display_name": "Python 3 (ipykernel)",
   "language": "python",
   "name": "python3"
  },
  "language_info": {
   "codemirror_mode": {
    "name": "ipython",
    "version": 3
   },
   "file_extension": ".py",
   "mimetype": "text/x-python",
   "name": "python",
   "nbconvert_exporter": "python",
   "pygments_lexer": "ipython3",
   "version": "3.12.4"
  }
 },
 "nbformat": 4,
 "nbformat_minor": 5
}
